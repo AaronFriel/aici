{
 "cells": [
  {
   "cell_type": "markdown",
   "metadata": {},
   "source": [
    "# This notebook is demonstrating (and testing) scenarios for generating requests to the AICI server (evolving API)"
   ]
  },
  {
   "cell_type": "code",
   "execution_count": 1,
   "metadata": {},
   "outputs": [],
   "source": [
    "import sys\n",
    "#sys.path.insert(0, 'c:\\\\users\\\\emrek\\\\source\\\\guidance\\\\prompt-plan\\\\promptlib\\\\')\n",
    "sys.path.insert(0, '/workspaces/aici/promptlib')\n"
   ]
  },
  {
   "cell_type": "code",
   "execution_count": 2,
   "metadata": {},
   "outputs": [
    {
     "name": "stderr",
     "output_type": "stream",
     "text": [
      "/usr/local/lib/python3.10/dist-packages/tqdm/auto.py:21: TqdmWarning: IProgress not found. Please update jupyter and ipywidgets. See https://ipywidgets.readthedocs.io/en/stable/user_install.html\n",
      "  from .autonotebook import tqdm as notebook_tqdm\n"
     ]
    }
   ],
   "source": [
    "from promptlib import PromptNode\n",
    "from promptlib import set_model, append, gen, choose, begin, end\n",
    "from promptlib.models import LLM, TransformersLLM\n",
    "from promptlib.endpoints import AICI"
   ]
  },
  {
   "cell_type": "code",
   "execution_count": 3,
   "metadata": {},
   "outputs": [
    {
     "name": "stdout",
     "output_type": "stream",
     "text": [
      "{'steps': [{'Model': {'model': 'gpt2'}}, {'Fixed': {'text': 'Here is a generated prompt:'}}, {'Gen': {'max_tokens': 10, 'rx': '.+', 'genargs': {}}}, {'Fixed': {'text': 'Here is another generated prompt. '}}, {'Gen': {'max_tokens': 10, 'rx': '.+', 'genargs': {}}}]}\n"
     ]
    }
   ],
   "source": [
    "llm = TransformersLLM(\"gpt2\")\n",
    "\n",
    "pn = PromptNode().set_model(llm)                                          \\\n",
    "    .append(\"Here is a generated prompt:\").gen(max_tokens=10)             \\\n",
    "    .append(\"Here is another generated prompt. \").gen(max_tokens=10)\n",
    "\n",
    "aici_steps = pn.build_linear_plan()\n",
    "print(aici_steps)"
   ]
  },
  {
   "cell_type": "code",
   "execution_count": 5,
   "metadata": {},
   "outputs": [
    {
     "name": "stdout",
     "output_type": "stream",
     "text": [
      "{'steps': [{'Model': {'model': 'gpt2'}}, {'block': {'steps': [{'Fixed': {'text': 'Here is a generated prompt. Resp:'}}, {'Gen': {'max_tokens': 10, 'rx': '.+', 'genargs': {}}}, {'Fixed': {'text': 'Here is another generated prompt. Resp:'}}, {'Gen': {'max_tokens': 10, 'rx': '.+', 'genargs': {}}}], 'id': 'block1'}}, {'Fixed': {'text': 'Here is a final prompt. Resp:'}}, {'Gen': {'max_tokens': 10, 'rx': '.+', 'genargs': {}}}]}\n"
     ]
    }
   ],
   "source": [
    "llm = TransformersLLM(\"gpt2\")\n",
    "\n",
    "pn0  = PromptNode()\n",
    "\n",
    "pn = pn0.set_model(llm)                                          \\\n",
    "    .begin(id=\"block1\") \\\n",
    "    .append(\"Here is a generated prompt. Resp:\").gen(max_tokens=10)             \\\n",
    "    .append(\"Here is another generated prompt. Resp:\").gen(max_tokens=10)      \\\n",
    "    .end() \\\n",
    "    .append(\"Here is a final prompt. Resp:\").gen(max_tokens=10)  \n",
    "    \n",
    "\n",
    "aici_steps = pn0.build_tree_plan()\n",
    "print(aici_steps)"
   ]
  },
  {
   "cell_type": "code",
   "execution_count": 6,
   "metadata": {},
   "outputs": [
    {
     "ename": "TypeError",
     "evalue": "DummyCharacterConstraint.__init__() takes from 1 to 2 positional arguments but 5 were given",
     "output_type": "error",
     "traceback": [
      "\u001b[0;31m---------------------------------------------------------------------------\u001b[0m",
      "\u001b[0;31mTypeError\u001b[0m                                 Traceback (most recent call last)",
      "\u001b[1;32m/workspaces/aici/promptlib/notebooks/aici_server_example.ipynb Cell 6\u001b[0m line \u001b[0;36m9\n\u001b[1;32m      <a href='vscode-notebook-cell://dev-container%2B7b22686f737450617468223a222f686f6d652f656d72656b2f666173742d70726f6a6563742f61696369222c226c6f63616c446f636b6572223a66616c73652c22636f6e66696746696c65223a7b22246d6964223a312c2270617468223a222f686f6d652f656d72656b2f666173742d70726f6a6563742f616963692f2e646576636f6e7461696e65722f646576636f6e7461696e65722e6a736f6e222c22736368656d65223a227673636f64652d66696c65486f7374227d7d@ssh-remote%2Btunnel/workspaces/aici/promptlib/notebooks/aici_server_example.ipynb#W6sdnNjb2RlLXJlbW90ZQ%3D%3D?line=2'>3</a>\u001b[0m \u001b[39mfrom\u001b[39;00m \u001b[39mpromptlib\u001b[39;00m\u001b[39m.\u001b[39;00m\u001b[39mconstraints\u001b[39;00m \u001b[39mimport\u001b[39;00m DummyCharacterConstraint, OddEvenDigitConstraint\n\u001b[1;32m      <a href='vscode-notebook-cell://dev-container%2B7b22686f737450617468223a222f686f6d652f656d72656b2f666173742d70726f6a6563742f61696369222c226c6f63616c446f636b6572223a66616c73652c22636f6e66696746696c65223a7b22246d6964223a312c2270617468223a222f686f6d652f656d72656b2f666173742d70726f6a6563742f616963692f2e646576636f6e7461696e65722f646576636f6e7461696e65722e6a736f6e222c22736368656d65223a227673636f64652d66696c65486f7374227d7d@ssh-remote%2Btunnel/workspaces/aici/promptlib/notebooks/aici_server_example.ipynb#W6sdnNjb2RlLXJlbW90ZQ%3D%3D?line=4'>5</a>\u001b[0m pn0  \u001b[39m=\u001b[39m PromptNode()\n\u001b[1;32m      <a href='vscode-notebook-cell://dev-container%2B7b22686f737450617468223a222f686f6d652f656d72656b2f666173742d70726f6a6563742f61696369222c226c6f63616c446f636b6572223a66616c73652c22636f6e66696746696c65223a7b22246d6964223a312c2270617468223a222f686f6d652f656d72656b2f666173742d70726f6a6563742f616963692f2e646576636f6e7461696e65722f646576636f6e7461696e65722e6a736f6e222c22736368656d65223a227673636f64652d66696c65486f7374227d7d@ssh-remote%2Btunnel/workspaces/aici/promptlib/notebooks/aici_server_example.ipynb#W6sdnNjb2RlLXJlbW90ZQ%3D%3D?line=6'>7</a>\u001b[0m pn \u001b[39m=\u001b[39m pn0\u001b[39m.\u001b[39mset_model(llm)                                          \\\n\u001b[1;32m      <a href='vscode-notebook-cell://dev-container%2B7b22686f737450617468223a222f686f6d652f656d72656b2f666173742d70726f6a6563742f61696369222c226c6f63616c446f636b6572223a66616c73652c22636f6e66696746696c65223a7b22246d6964223a312c2270617468223a222f686f6d652f656d72656b2f666173742d70726f6a6563742f616963692f2e646576636f6e7461696e65722f646576636f6e7461696e65722e6a736f6e222c22736368656d65223a227673636f64652d66696c65486f7374227d7d@ssh-remote%2Btunnel/workspaces/aici/promptlib/notebooks/aici_server_example.ipynb#W6sdnNjb2RlLXJlbW90ZQ%3D%3D?line=7'>8</a>\u001b[0m     \u001b[39m.\u001b[39mbegin(\u001b[39mid\u001b[39m\u001b[39m=\u001b[39m\u001b[39m\"\u001b[39m\u001b[39mblock1\u001b[39m\u001b[39m\"\u001b[39m) \\\n\u001b[0;32m----> <a href='vscode-notebook-cell://dev-container%2B7b22686f737450617468223a222f686f6d652f656d72656b2f666173742d70726f6a6563742f61696369222c226c6f63616c446f636b6572223a66616c73652c22636f6e66696746696c65223a7b22246d6964223a312c2270617468223a222f686f6d652f656d72656b2f666173742d70726f6a6563742f616963692f2e646576636f6e7461696e65722f646576636f6e7461696e65722e6a736f6e222c22736368656d65223a227673636f64652d66696c65486f7374227d7d@ssh-remote%2Btunnel/workspaces/aici/promptlib/notebooks/aici_server_example.ipynb#W6sdnNjb2RlLXJlbW90ZQ%3D%3D?line=8'>9</a>\u001b[0m     \u001b[39m.\u001b[39mconstrain(DummyCharacterConstraint(\u001b[39m'\u001b[39;49m\u001b[39mh\u001b[39;49m\u001b[39m'\u001b[39;49m,\u001b[39m'\u001b[39;49m\u001b[39me\u001b[39;49m\u001b[39m'\u001b[39;49m,\u001b[39m'\u001b[39;49m\u001b[39ml\u001b[39;49m\u001b[39m'\u001b[39;49m,\u001b[39m'\u001b[39;49m\u001b[39mo\u001b[39;49m\u001b[39m'\u001b[39;49m)) \\\n\u001b[1;32m     <a href='vscode-notebook-cell://dev-container%2B7b22686f737450617468223a222f686f6d652f656d72656b2f666173742d70726f6a6563742f61696369222c226c6f63616c446f636b6572223a66616c73652c22636f6e66696746696c65223a7b22246d6964223a312c2270617468223a222f686f6d652f656d72656b2f666173742d70726f6a6563742f616963692f2e646576636f6e7461696e65722f646576636f6e7461696e65722e6a736f6e222c22736368656d65223a227673636f64652d66696c65486f7374227d7d@ssh-remote%2Btunnel/workspaces/aici/promptlib/notebooks/aici_server_example.ipynb#W6sdnNjb2RlLXJlbW90ZQ%3D%3D?line=9'>10</a>\u001b[0m     \u001b[39m.\u001b[39mconstrain(OddEvenDigitConstraint()) \\\n\u001b[1;32m     <a href='vscode-notebook-cell://dev-container%2B7b22686f737450617468223a222f686f6d652f656d72656b2f666173742d70726f6a6563742f61696369222c226c6f63616c446f636b6572223a66616c73652c22636f6e66696746696c65223a7b22246d6964223a312c2270617468223a222f686f6d652f656d72656b2f666173742d70726f6a6563742f616963692f2e646576636f6e7461696e65722f646576636f6e7461696e65722e6a736f6e222c22736368656d65223a227673636f64652d66696c65486f7374227d7d@ssh-remote%2Btunnel/workspaces/aici/promptlib/notebooks/aici_server_example.ipynb#W6sdnNjb2RlLXJlbW90ZQ%3D%3D?line=10'>11</a>\u001b[0m     \u001b[39m.\u001b[39mappend(\u001b[39m\"\u001b[39m\u001b[39mHere is a generated prompt. Resp:\u001b[39m\u001b[39m\"\u001b[39m)\u001b[39m.\u001b[39mgen(max_tokens\u001b[39m=\u001b[39m\u001b[39m10\u001b[39m)             \\\n\u001b[1;32m     <a href='vscode-notebook-cell://dev-container%2B7b22686f737450617468223a222f686f6d652f656d72656b2f666173742d70726f6a6563742f61696369222c226c6f63616c446f636b6572223a66616c73652c22636f6e66696746696c65223a7b22246d6964223a312c2270617468223a222f686f6d652f656d72656b2f666173742d70726f6a6563742f616963692f2e646576636f6e7461696e65722f646576636f6e7461696e65722e6a736f6e222c22736368656d65223a227673636f64652d66696c65486f7374227d7d@ssh-remote%2Btunnel/workspaces/aici/promptlib/notebooks/aici_server_example.ipynb#W6sdnNjb2RlLXJlbW90ZQ%3D%3D?line=11'>12</a>\u001b[0m     \u001b[39m.\u001b[39mappend(\u001b[39m\"\u001b[39m\u001b[39mHere is another generated prompt. Resp:\u001b[39m\u001b[39m\"\u001b[39m)\u001b[39m.\u001b[39mgen(max_tokens\u001b[39m=\u001b[39m\u001b[39m10\u001b[39m)      \\\n\u001b[1;32m     <a href='vscode-notebook-cell://dev-container%2B7b22686f737450617468223a222f686f6d652f656d72656b2f666173742d70726f6a6563742f61696369222c226c6f63616c446f636b6572223a66616c73652c22636f6e66696746696c65223a7b22246d6964223a312c2270617468223a222f686f6d652f656d72656b2f666173742d70726f6a6563742f616963692f2e646576636f6e7461696e65722f646576636f6e7461696e65722e6a736f6e222c22736368656d65223a227673636f64652d66696c65486f7374227d7d@ssh-remote%2Btunnel/workspaces/aici/promptlib/notebooks/aici_server_example.ipynb#W6sdnNjb2RlLXJlbW90ZQ%3D%3D?line=12'>13</a>\u001b[0m     \u001b[39m.\u001b[39mend() \\\n\u001b[1;32m     <a href='vscode-notebook-cell://dev-container%2B7b22686f737450617468223a222f686f6d652f656d72656b2f666173742d70726f6a6563742f61696369222c226c6f63616c446f636b6572223a66616c73652c22636f6e66696746696c65223a7b22246d6964223a312c2270617468223a222f686f6d652f656d72656b2f666173742d70726f6a6563742f616963692f2e646576636f6e7461696e65722f646576636f6e7461696e65722e6a736f6e222c22736368656d65223a227673636f64652d66696c65486f7374227d7d@ssh-remote%2Btunnel/workspaces/aici/promptlib/notebooks/aici_server_example.ipynb#W6sdnNjb2RlLXJlbW90ZQ%3D%3D?line=13'>14</a>\u001b[0m     \u001b[39m.\u001b[39mappend(\u001b[39m\"\u001b[39m\u001b[39mHere is a final prompt. Resp:\u001b[39m\u001b[39m\"\u001b[39m)\u001b[39m.\u001b[39mgen(max_tokens\u001b[39m=\u001b[39m\u001b[39m10\u001b[39m)  \n\u001b[1;32m     <a href='vscode-notebook-cell://dev-container%2B7b22686f737450617468223a222f686f6d652f656d72656b2f666173742d70726f6a6563742f61696369222c226c6f63616c446f636b6572223a66616c73652c22636f6e66696746696c65223a7b22246d6964223a312c2270617468223a222f686f6d652f656d72656b2f666173742d70726f6a6563742f616963692f2e646576636f6e7461696e65722f646576636f6e7461696e65722e6a736f6e222c22736368656d65223a227673636f64652d66696c65486f7374227d7d@ssh-remote%2Btunnel/workspaces/aici/promptlib/notebooks/aici_server_example.ipynb#W6sdnNjb2RlLXJlbW90ZQ%3D%3D?line=16'>17</a>\u001b[0m aici_steps \u001b[39m=\u001b[39m pn0\u001b[39m.\u001b[39mbuild_tree_plan()\n\u001b[1;32m     <a href='vscode-notebook-cell://dev-container%2B7b22686f737450617468223a222f686f6d652f656d72656b2f666173742d70726f6a6563742f61696369222c226c6f63616c446f636b6572223a66616c73652c22636f6e66696746696c65223a7b22246d6964223a312c2270617468223a222f686f6d652f656d72656b2f666173742d70726f6a6563742f616963692f2e646576636f6e7461696e65722f646576636f6e7461696e65722e6a736f6e222c22736368656d65223a227673636f64652d66696c65486f7374227d7d@ssh-remote%2Btunnel/workspaces/aici/promptlib/notebooks/aici_server_example.ipynb#W6sdnNjb2RlLXJlbW90ZQ%3D%3D?line=17'>18</a>\u001b[0m \u001b[39mprint\u001b[39m(aici_steps)\n",
      "\u001b[0;31mTypeError\u001b[0m: DummyCharacterConstraint.__init__() takes from 1 to 2 positional arguments but 5 were given"
     ]
    }
   ],
   "source": [
    "llm = TransformersLLM(\"gpt2\")\n",
    "\n",
    "from promptlib.constraints import DummyCharacterConstraint, OddEvenDigitConstraint\n",
    "\n",
    "pn0  = PromptNode()\n",
    "\n",
    "pn = pn0.set_model(llm)                                          \\\n",
    "    .begin(id=\"block1\") \\\n",
    "    .constrain(DummyCharacterConstraint(['h','e','l','o'])) \\\n",
    "    .constrain(OddEvenDigitConstraint()) \\\n",
    "    .append(\"Here is a generated prompt. Resp:\").gen(max_tokens=10)             \\\n",
    "    .append(\"Here is another generated prompt. Resp:\").gen(max_tokens=10)      \\\n",
    "    .end() \\\n",
    "    .append(\"Here is a final prompt. Resp:\").gen(max_tokens=10)  \n",
    "    \n",
    "\n",
    "aici_steps = pn0.build_tree_plan()\n",
    "print(aici_steps)"
   ]
  },
  {
   "cell_type": "code",
   "execution_count": 5,
   "metadata": {},
   "outputs": [
    {
     "name": "stdout",
     "output_type": "stream",
     "text": [
      "upload module... 2713kB -> 2604kB id:09d17084\n",
      "tokenize: 'Please answer the following questions: Q: Who is the president of the USA? A:' -> [12148, 1234, 278, 1494, 5155, 29901, 660, 29901, 11644, 338, 278, 6673, 310, 278, 8278, 29973, 319, 29901]\n",
      "dfa: 152 bytes\n",
      "tokenize: 'Q: And who is their vice president? A:' -> [29984, 29901, 1126, 1058, 338, 1009, 11289, 6673, 29973, 319, 29901]\n",
      "dfa: 152 bytes\n",
      "[0] Fixed(\"Please answer the following questions: Q: Who is the president of the USA? A:\") tok:0/inf\n",
      "[1] Gen(/\".+\"/ max_tokens:10, ) tok:0/10\n",
      "[2] Fixed(\"Q: And who is their vice president? A:\") tok:0/inf\n",
      "[3] Gen(/\".+\"/ max_tokens:10, ) tok:0/10\n",
      "[4] Fixed(\"[STOP]\") tok:0/inf\n",
      "prompt, 1 tokens\n",
      "advance 12148 'Please' [0] tok:0/inf\n",
      " => [0] tok:1/inf\n",
      "advance 1234 ' answer' [0] tok:1/inf\n",
      " => [0] tok:2/inf\n",
      "advance 278 ' the' [0] tok:2/inf\n",
      " => [0] tok:3/inf\n",
      "advance 1494 ' following' [0] tok:3/inf\n",
      " => [0] tok:4/inf\n",
      "advance 5155 ' questions' [0] tok:4/inf\n",
      " => [0] tok:5/inf\n",
      "advance 29901 ':' [0] tok:5/inf\n",
      " => [0] tok:6/inf\n",
      "advance 660 ' Q' [0] tok:6/inf\n",
      " => [0] tok:7/inf\n",
      "advance 29901 ':' [0] tok:7/inf\n",
      " => [0] tok:8/inf\n",
      "advance 11644 ' Who' [0] tok:8/inf\n",
      " => [0] tok:9/inf\n",
      "advance 338 ' is' [0] tok:9/inf\n",
      " => [0] tok:10/inf\n",
      "advance 278 ' the' [0] tok:10/inf\n",
      " => [0] tok:11/inf\n",
      "advance 6673 ' president' [0] tok:11/inf\n",
      " => [0] tok:12/inf\n",
      "advance 310 ' of' [0] tok:12/inf\n",
      " => [0] tok:13/inf\n",
      "advance 278 ' the' [0] tok:13/inf\n",
      " => [0] tok:14/inf\n",
      "advance 8278 ' USA' [0] tok:14/inf\n",
      " => [0] tok:15/inf\n",
      "advance 29973 '?' [0] tok:15/inf\n",
      " => [0] tok:16/inf\n",
      "advance 319 ' A' [0] tok:16/inf\n",
      " => [0] tok:17/inf\n",
      "advance 29901 ':' [0] tok:17/inf\n",
      " => [0] tok:18/inf\n",
      "advance 11131 ' Joe' [0] tok:18/inf\n",
      " => [1] tok:1/10\n",
      "advance 350 ' B' [1] tok:1/10\n",
      " => [1] tok:2/10\n",
      "advance 3615 'iden' [1] tok:2/10\n",
      " => [1] tok:3/10\n",
      "advance 660 ' Q' [1] tok:3/10\n",
      " => [1] tok:4/10\n",
      "advance 29901 ':' [1] tok:4/10\n",
      " => [1] tok:5/10\n",
      "advance 1724 ' What' [1] tok:5/10\n",
      " => [1] tok:6/10\n",
      "advance 338 ' is' [1] tok:6/10\n",
      " => [1] tok:7/10\n",
      "advance 278 ' the' [1] tok:7/10\n",
      " => [1] tok:8/10\n",
      "advance 7483 ' capital' [1] tok:8/10\n",
      " => [1] tok:9/10\n",
      "advance 310 ' of' [1] tok:9/10\n",
      " => [1] tok:10/10\n",
      "advance 29984 'Q' [1] tok:10/10\n",
      " => [2] tok:1/inf\n",
      "advance 29901 ':' [2] tok:1/inf\n",
      " => [2] tok:2/inf\n",
      "advance 1126 ' And' [2] tok:2/inf\n",
      " => [2] tok:3/inf\n",
      "advance 1058 ' who' [2] tok:3/inf\n",
      " => [2] tok:4/inf\n",
      "advance 338 ' is' [2] tok:4/inf\n",
      " => [2] tok:5/inf\n",
      "advance 1009 ' their' [2] tok:5/inf\n",
      " => [2] tok:6/inf\n",
      "advance 11289 ' vice' [2] tok:6/inf\n",
      " => [2] tok:7/inf\n",
      "advance 6673 ' president' [2] tok:7/inf\n",
      " => [2] tok:8/inf\n",
      "advance 29973 '?' [2] tok:8/inf\n",
      " => [2] tok:9/inf\n",
      "advance 319 ' A' [2] tok:9/inf\n",
      " => [2] tok:10/inf\n",
      "advance 29901 ':' [2] tok:10/inf\n",
      " => [2] tok:11/inf\n",
      "advance 12986 ' Kam' [2] tok:11/inf\n",
      " => [3] tok:1/10\n",
      "advance 2883 'ala' [3] tok:1/10\n",
      " => [3] tok:2/10\n",
      "advance 20349 ' Harris' [3] tok:2/10\n",
      " => [3] tok:3/10\n",
      "advance 660 ' Q' [3] tok:3/10\n",
      " => [3] tok:4/10\n",
      "advance 29901 ':' [3] tok:4/10\n",
      " => [3] tok:5/10\n",
      "advance 1724 ' What' [3] tok:5/10\n",
      " => [3] tok:6/10\n",
      "advance 338 ' is' [3] tok:6/10\n",
      " => [3] tok:7/10\n",
      "advance 278 ' the' [3] tok:7/10\n",
      " => [3] tok:8/10\n",
      "advance 1024 ' name' [3] tok:8/10\n",
      " => [3] tok:9/10\n",
      "advance 310 ' of' [3] tok:9/10\n",
      " => [3] tok:10/10\n",
      " [DONE]\n",
      "Please answer the following questions: Q: Who is the president of the USA? A: Joe Biden Q: What is the capital ofQ: And who is their vice president? A: Kamala Harris Q: What is the name of\n",
      "response saved to tmp/response.json\n"
     ]
    }
   ],
   "source": [
    "ep = AICI(base_url=\"http://127.0.0.1:8080/v1/\", wasm_runner_path=\"/workspaces/aici/aici_ast_runner/target/opt.wasm\")\n",
    "\n",
    "endpoint = PromptNode().set_endpoint(ep)\n",
    "\n",
    "pn = endpoint.append(\"Please answer the following questions: Q: Who is the president of the USA? A:\").gen(max_tokens=10)             \\\n",
    "    .append(\"Q: And who is their vice president? A:\").gen(max_tokens=10)\n",
    "\n",
    "endpoint.run(pn)"
   ]
  }
 ],
 "metadata": {
  "kernelspec": {
   "display_name": "Python 3",
   "language": "python",
   "name": "python3"
  },
  "language_info": {
   "codemirror_mode": {
    "name": "ipython",
    "version": 3
   },
   "file_extension": ".py",
   "mimetype": "text/x-python",
   "name": "python",
   "nbconvert_exporter": "python",
   "pygments_lexer": "ipython3",
   "version": "3.10.12"
  }
 },
 "nbformat": 4,
 "nbformat_minor": 2
}
