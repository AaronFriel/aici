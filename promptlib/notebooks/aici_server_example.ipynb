{
 "cells": [
  {
   "cell_type": "markdown",
   "metadata": {},
   "source": [
    "# This notebook is demonstrating (and testing) scenarios for generating requests to the AICI server (evolving API)"
   ]
  },
  {
   "cell_type": "code",
   "execution_count": 1,
   "metadata": {},
   "outputs": [],
   "source": [
    "import sys\n",
    "sys.path.insert(0, 'c:\\\\users\\\\emrek\\\\source\\\\guidance\\\\prompt-plan\\\\promptlib\\\\')\n"
   ]
  },
  {
   "cell_type": "code",
   "execution_count": 2,
   "metadata": {},
   "outputs": [
    {
     "name": "stderr",
     "output_type": "stream",
     "text": [
      "C:\\Users\\emrek\\AppData\\Local\\Packages\\PythonSoftwareFoundation.Python.3.9_qbz5n2kfra8p0\\LocalCache\\local-packages\\Python39\\site-packages\\tqdm\\auto.py:22: TqdmWarning: IProgress not found. Please update jupyter and ipywidgets. See https://ipywidgets.readthedocs.io/en/stable/user_install.html\n",
      "  from .autonotebook import tqdm as notebook_tqdm\n"
     ]
    }
   ],
   "source": [
    "from promptlib import PromptNode\n",
    "from promptlib import set_model, append, gen, choose, begin, end\n",
    "from promptlib.models import LLM, TransformersLLM"
   ]
  },
  {
   "cell_type": "code",
   "execution_count": 3,
   "metadata": {},
   "outputs": [
    {
     "name": "stdout",
     "output_type": "stream",
     "text": [
      "{steps: [{\"Fixed\": {\"text\": \"Here is a generated prompt:\"}},\n",
      "{\"Gen\": {\"max_tokens\": 10, \"rx\": \".+\"}},\n",
      "{\"Fixed\": {\"text\": \"Here is another generated prompt. \"}},\n",
      "{\"Gen\": {\"max_tokens\": 10, \"rx\": \".+\"}}]}\n"
     ]
    }
   ],
   "source": [
    "llm = TransformersLLM(\"gpt2\")\n",
    "\n",
    "pn = PromptNode().set_model(llm)                                          \\\n",
    "    .append(\"Here is a generated prompt:\").gen(max_tokens=10)             \\\n",
    "    .append(\"Here is another generated prompt. \").gen(max_tokens=10)\n",
    "\n",
    "aici_steps = pn.build_linear_plan()\n",
    "print(aici_steps)"
   ]
  }
 ],
 "metadata": {
  "kernelspec": {
   "display_name": "Python 3",
   "language": "python",
   "name": "python3"
  },
  "language_info": {
   "codemirror_mode": {
    "name": "ipython",
    "version": 3
   },
   "file_extension": ".py",
   "mimetype": "text/x-python",
   "name": "python",
   "nbconvert_exporter": "python",
   "pygments_lexer": "ipython3",
   "version": "3.9.13"
  }
 },
 "nbformat": 4,
 "nbformat_minor": 2
}
