{
 "cells": [
  {
   "cell_type": "markdown",
   "metadata": {},
   "source": [
    "# This notebook is demonstrating (and testing) scenarios for generating requests to the AICI server (evolving API)"
   ]
  },
  {
   "cell_type": "code",
   "execution_count": 1,
   "metadata": {},
   "outputs": [],
   "source": [
    "import sys\n",
    "#sys.path.insert(0, 'c:\\\\users\\\\emrek\\\\source\\\\guidance\\\\prompt-plan\\\\promptlib\\\\')\n",
    "sys.path.insert(0, '/workspaces/aici/promptlib')\n"
   ]
  },
  {
   "cell_type": "code",
   "execution_count": 2,
   "metadata": {},
   "outputs": [
    {
     "name": "stderr",
     "output_type": "stream",
     "text": [
      "/usr/local/lib/python3.10/dist-packages/tqdm/auto.py:21: TqdmWarning: IProgress not found. Please update jupyter and ipywidgets. See https://ipywidgets.readthedocs.io/en/stable/user_install.html\n",
      "  from .autonotebook import tqdm as notebook_tqdm\n"
     ]
    }
   ],
   "source": [
    "from promptlib import PromptNode\n",
    "from promptlib import set_model, append, gen, choose, begin, end\n",
    "from promptlib.models import LLM, TransformersLLM\n",
    "from promptlib.endpoints import AICI"
   ]
  },
  {
   "cell_type": "code",
   "execution_count": 3,
   "metadata": {},
   "outputs": [
    {
     "name": "stdout",
     "output_type": "stream",
     "text": [
      "{'steps': [{'Fixed': {'text': 'Here is a generated prompt:'}}, {'Gen': {'max_tokens': 10, 'rx': '.+'}}, {'Fixed': {'text': 'Here is another generated prompt. '}}, {'Gen': {'max_tokens': 10, 'rx': '.+'}}]}\n"
     ]
    }
   ],
   "source": [
    "llm = TransformersLLM(\"gpt2\")\n",
    "\n",
    "pn = PromptNode().set_model(llm)                                          \\\n",
    "    .append(\"Here is a generated prompt:\").gen(max_tokens=10)             \\\n",
    "    .append(\"Here is another generated prompt. \").gen(max_tokens=10)\n",
    "\n",
    "aici_steps = pn.build_linear_plan()\n",
    "print(aici_steps)"
   ]
  },
  {
   "cell_type": "code",
   "execution_count": 5,
   "metadata": {},
   "outputs": [
    {
     "name": "stdout",
     "output_type": "stream",
     "text": [
      "upload module... 2713kB -> 2604kB id:09d17084\n",
      "tokenize: 'Who is the president of the USA?' -> [22110, 338, 278, 6673, 310, 278, 8278, 29973]\n",
      "dfa: 152 bytes\n",
      "tokenize: 'And who is their vice president?' -> [2855, 1058, 338, 1009, 11289, 6673, 29973]\n",
      "dfa: 152 bytes\n",
      "[0] Fixed(\"Who is the president of the USA?\") tok:0/inf\n",
      "[1] Gen(/\".+\"/ max_tokens:10, ) tok:0/10\n",
      "[2] Fixed(\"And who is their vice president?\") tok:0/inf\n",
      "[3] Gen(/\".+\"/ max_tokens:10, ) tok:0/10\n",
      "[4] Fixed(\"[STOP]\") tok:0/inf\n",
      "prompt, 1 tokens\n",
      "advance 22110 'Who' [0] tok:0/inf\n",
      " => [0] tok:1/inf\n",
      "advance 338 ' is' [0] tok:1/inf\n",
      " => [0] tok:2/inf\n",
      "advance 278 ' the' [0] tok:2/inf\n",
      " => [0] tok:3/inf\n",
      "advance 6673 ' president' [0] tok:3/inf\n",
      " => [0] tok:4/inf\n",
      "advance 310 ' of' [0] tok:4/inf\n",
      " => [0] tok:5/inf\n",
      "advance 278 ' the' [0] tok:5/inf\n",
      " => [0] tok:6/inf\n",
      "advance 8278 ' USA' [0] tok:6/inf\n",
      " => [0] tok:7/inf\n",
      "advance 29973 '?' [0] tok:7/inf\n",
      " => [0] tok:8/inf\n",
      "advance 29871 ' ' [0] tok:8/inf\n",
      " => [1] tok:1/10\n",
      "advance 11644 ' Who' [1] tok:1/10\n",
      " => [1] tok:2/10\n",
      "advance 338 ' is' [1] tok:2/10\n",
      " => [1] tok:3/10\n",
      "advance 278 ' the' [1] tok:3/10\n",
      " => [1] tok:4/10\n",
      "advance 11289 ' vice' [1] tok:4/10\n",
      " => [1] tok:5/10\n",
      "advance 6673 ' president' [1] tok:5/10\n",
      " => [1] tok:6/10\n",
      "advance 310 ' of' [1] tok:6/10\n",
      " => [1] tok:7/10\n",
      "advance 278 ' the' [1] tok:7/10\n",
      " => [1] tok:8/10\n",
      "advance 8278 ' USA' [1] tok:8/10\n",
      " => [1] tok:9/10\n",
      "advance 29973 '?' [1] tok:9/10\n",
      " => [1] tok:10/10\n",
      "advance 2855 'And' [1] tok:10/10\n",
      " => [2] tok:1/inf\n",
      "advance 1058 ' who' [2] tok:1/inf\n",
      " => [2] tok:2/inf\n",
      "advance 338 ' is' [2] tok:2/inf\n",
      " => [2] tok:3/inf\n",
      "advance 1009 ' their' [2] tok:3/inf\n",
      " => [2] tok:4/inf\n",
      "advance 11289 ' vice' [2] tok:4/inf\n",
      " => [2] tok:5/inf\n",
      "advance 6673 ' president' [2] tok:5/inf\n",
      " => [2] tok:6/inf\n",
      "advance 29973 '?' [2] tok:6/inf\n",
      " => [2] tok:7/inf\n",
      "advance 29871 ' ' [2] tok:7/inf\n",
      " => [3] tok:1/10\n",
      "advance 1724 ' What' [3] tok:1/10\n",
      " => [3] tok:2/10\n",
      "advance 526 ' are' [3] tok:2/10\n",
      " => [3] tok:3/10\n",
      "advance 1009 ' their' [3] tok:3/10\n",
      " => [3] tok:4/10\n",
      "advance 2983 ' names' [3] tok:4/10\n",
      " => [3] tok:5/10\n",
      "advance 29973 '?' [3] tok:5/10\n",
      " => [3] tok:6/10\n",
      "advance 29871 ' ' [3] tok:6/10\n",
      " => [3] tok:7/10\n",
      "advance 1724 ' What' [3] tok:7/10\n",
      " => [3] tok:8/10\n",
      "advance 526 ' are' [3] tok:8/10\n",
      " => [3] tok:9/10\n",
      "advance 1009 ' their' [3] tok:9/10\n",
      " => [3] tok:10/10\n",
      " [DONE]\n",
      "Who is the president of the USA?  Who is the vice president of the USA?And who is their vice president?  What are their names?  What are their\n",
      "response saved to tmp/response.json\n"
     ]
    }
   ],
   "source": [
    "ep = AICI(base_url=\"http://127.0.0.1:8080/v1/\", wasm_runner_path=\"/workspaces/aici/aici_ast_runner/target/opt.wasm\")\n",
    "\n",
    "endpoint = PromptNode().set_endpoint(ep)\n",
    "\n",
    "pn = endpoint.append(\"Please answer the following questions: Q: Who is the president of the USA? A:\").gen(max_tokens=10)             \\\n",
    "    .append(\"Q: And who is their vice president? A:\").gen(max_tokens=10)\n",
    "\n",
    "endpoint.run(pn)"
   ]
  }
 ],
 "metadata": {
  "kernelspec": {
   "display_name": "Python 3",
   "language": "python",
   "name": "python3"
  },
  "language_info": {
   "codemirror_mode": {
    "name": "ipython",
    "version": 3
   },
   "file_extension": ".py",
   "mimetype": "text/x-python",
   "name": "python",
   "nbconvert_exporter": "python",
   "pygments_lexer": "ipython3",
   "version": "3.10.12"
  }
 },
 "nbformat": 4,
 "nbformat_minor": 2
}
