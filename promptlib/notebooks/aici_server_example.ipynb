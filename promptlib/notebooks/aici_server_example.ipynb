{
 "cells": [
  {
   "cell_type": "markdown",
   "metadata": {},
   "source": [
    "# This notebook is demonstrating (and testing) scenarios for generating requests to the AICI server (evolving API)"
   ]
  },
  {
   "cell_type": "code",
   "execution_count": 1,
   "metadata": {},
   "outputs": [],
   "source": [
    "import sys\n",
    "#sys.path.insert(0, 'c:\\\\users\\\\emrek\\\\source\\\\guidance\\\\prompt-plan\\\\promptlib\\\\')\n",
    "sys.path.insert(0, '/workspaces/aici/promptlib')\n"
   ]
  },
  {
   "cell_type": "code",
   "execution_count": 2,
   "metadata": {},
   "outputs": [
    {
     "name": "stderr",
     "output_type": "stream",
     "text": [
      "/usr/local/lib/python3.10/dist-packages/tqdm/auto.py:21: TqdmWarning: IProgress not found. Please update jupyter and ipywidgets. See https://ipywidgets.readthedocs.io/en/stable/user_install.html\n",
      "  from .autonotebook import tqdm as notebook_tqdm\n"
     ]
    }
   ],
   "source": [
    "from promptlib import PromptNode\n",
    "from promptlib import set_model, append, gen, choose, begin, end\n",
    "from promptlib.models import LLM, TransformersLLM\n",
    "from promptlib.endpoints import AICI"
   ]
  },
  {
   "cell_type": "code",
   "execution_count": 3,
   "metadata": {},
   "outputs": [
    {
     "name": "stdout",
     "output_type": "stream",
     "text": [
      "{'steps': [{'Model': {'model': 'gpt2'}}, {'Fixed': {'text': 'Here is a generated prompt:'}}, {'Gen': {'max_tokens': 10, 'rx': '.+', 'genargs': {}}}, {'Fixed': {'text': 'Here is another generated prompt. '}}, {'Gen': {'max_tokens': 10, 'rx': '.+', 'genargs': {}}}]}\n"
     ]
    }
   ],
   "source": [
    "llm = TransformersLLM(\"gpt2\")\n",
    "\n",
    "pn = PromptNode().set_model(llm)                                          \\\n",
    "    .append(\"Here is a generated prompt:\").gen(max_tokens=10)             \\\n",
    "    .append(\"Here is another generated prompt. \").gen(max_tokens=10)\n",
    "\n",
    "aici_steps = pn.build_linear_plan()\n",
    "print(aici_steps)"
   ]
  },
  {
   "cell_type": "code",
   "execution_count": 4,
   "metadata": {},
   "outputs": [
    {
     "name": "stdout",
     "output_type": "stream",
     "text": [
      "{'steps': [{'Model': {'model': 'gpt2'}}, {'block': {'steps': [{'Fixed': {'text': 'Here is a generated prompt. Resp:'}}, {'Gen': {'max_tokens': 10, 'rx': '.+', 'genargs': {}}}, {'Fixed': {'text': 'Here is another generated prompt. Resp:'}}, {'Gen': {'max_tokens': 10, 'rx': '.+', 'genargs': {}}}], 'id': 'block1'}}, {'Fixed': {'text': 'Here is a final prompt. Resp:'}}, {'Gen': {'max_tokens': 10, 'rx': '.+', 'genargs': {}}}]}\n"
     ]
    }
   ],
   "source": [
    "llm = TransformersLLM(\"gpt2\")\n",
    "\n",
    "pn0  = PromptNode()\n",
    "\n",
    "pn = pn0.set_model(llm)                                          \\\n",
    "    .begin(id=\"block1\") \\\n",
    "    .append(\"Here is a generated prompt. Resp:\").gen(max_tokens=10)             \\\n",
    "    .append(\"Here is another generated prompt. Resp:\").gen(max_tokens=10)      \\\n",
    "    .end() \\\n",
    "    .append(\"Here is a final prompt. Resp:\").gen(max_tokens=10)  \n",
    "    \n",
    "\n",
    "aici_steps = pn0.build_tree_plan()\n",
    "print(aici_steps)"
   ]
  },
  {
   "cell_type": "code",
   "execution_count": 5,
   "metadata": {},
   "outputs": [
    {
     "name": "stdout",
     "output_type": "stream",
     "text": [
      "{'steps': [{'Model': {'model': 'gpt2'}}, {'block': {'steps': [{'constraint': {'type': 'regex', 'rx': '[h|e|l|o]+'}}, {'constraint': {'type': 'regex', 'rx': '^(?:[13579][02468])*[13579]|[02468]([13579]?|(?:[13579][02468])*)$'}}, {'Fixed': {'text': 'Here is a generated prompt. Resp:'}}, {'Gen': {'max_tokens': 10, 'rx': '.+', 'genargs': {}}}, {'Fixed': {'text': 'Here is another generated prompt. Resp:'}}, {'Gen': {'max_tokens': 10, 'rx': '.+', 'genargs': {}}}], 'id': 'block1'}}, {'Fixed': {'text': 'Here is a final prompt. Resp:'}}, {'Gen': {'max_tokens': 10, 'rx': '.+', 'genargs': {}}}]}\n"
     ]
    }
   ],
   "source": [
    "llm = TransformersLLM(\"gpt2\")\n",
    "\n",
    "from promptlib.constraints import DummyCharacterConstraint, OddEvenDigitConstraint\n",
    "\n",
    "pn0  = PromptNode()\n",
    "\n",
    "pn = pn0.set_model(llm)                                          \\\n",
    "    .begin(id=\"block1\") \\\n",
    "    .constrain(DummyCharacterConstraint(['h','e','l','o'])) \\\n",
    "    .constrain(OddEvenDigitConstraint()) \\\n",
    "    .append(\"Here is a generated prompt. Resp:\").gen(max_tokens=10)             \\\n",
    "    .append(\"Here is another generated prompt. Resp:\").gen(max_tokens=10)      \\\n",
    "    .end() \\\n",
    "    .append(\"Here is a final prompt. Resp:\").gen(max_tokens=10)  \n",
    "    \n",
    "\n",
    "aici_steps = pn0.build_tree_plan()\n",
    "print(aici_steps)"
   ]
  },
  {
   "cell_type": "code",
   "execution_count": 6,
   "metadata": {},
   "outputs": [
    {
     "name": "stdout",
     "output_type": "stream",
     "text": [
      "upload module... 2713kB -> 2604kB id:09d17084\n",
      "Please answer the following questions: Q: Who is the president of the USA? A: Joe Biden Q: What is the capital ofQ: And who is their vice president? A: Kamala Harris Q: What is the name of\n"
     ]
    }
   ],
   "source": [
    "ep = AICI(base_url=\"http://127.0.0.1:8080/v1/\", wasm_runner_path=\"/workspaces/aici/aici_ast_runner/target/opt.wasm\")\n",
    "\n",
    "endpoint = PromptNode().set_endpoint(ep)\n",
    "\n",
    "pn = endpoint.append(\"Please answer the following questions: Q: Who is the president of the USA? A:\").gen(max_tokens=10)             \\\n",
    "    .append(\"Q: And who is their vice president? A:\").gen(max_tokens=10)\n",
    "\n",
    "endpoint.run(pn)"
   ]
  }
 ],
 "metadata": {
  "kernelspec": {
   "display_name": "Python 3",
   "language": "python",
   "name": "python3"
  },
  "language_info": {
   "codemirror_mode": {
    "name": "ipython",
    "version": 3
   },
   "file_extension": ".py",
   "mimetype": "text/x-python",
   "name": "python",
   "nbconvert_exporter": "python",
   "pygments_lexer": "ipython3",
   "version": "3.10.12"
  }
 },
 "nbformat": 4,
 "nbformat_minor": 2
}
