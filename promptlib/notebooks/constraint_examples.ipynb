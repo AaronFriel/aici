{
 "cells": [
  {
   "cell_type": "code",
   "execution_count": 1,
   "metadata": {},
   "outputs": [],
   "source": [
    "import sys\n",
    "sys.path.insert(0, 'c:\\\\users\\\\emrek\\\\source\\\\guidance\\\\prompt-plan\\\\promptlib\\\\')"
   ]
  },
  {
   "cell_type": "code",
   "execution_count": 2,
   "metadata": {},
   "outputs": [
    {
     "name": "stderr",
     "output_type": "stream",
     "text": [
      "C:\\Users\\emrek\\AppData\\Local\\Packages\\PythonSoftwareFoundation.Python.3.9_qbz5n2kfra8p0\\LocalCache\\local-packages\\Python39\\site-packages\\tqdm\\auto.py:22: TqdmWarning: IProgress not found. Please update jupyter and ipywidgets. See https://ipywidgets.readthedocs.io/en/stable/user_install.html\n",
      "  from .autonotebook import tqdm as notebook_tqdm\n"
     ]
    }
   ],
   "source": [
    "from promptlib import PromptNode\n",
    "from promptlib import set_model, append, gen, choose, begin, end\n",
    "from promptlib.models import LLM, TransformersLLM\n",
    "from promptlib.constraints import Constraint, DummyCharacterConstraint, OddEvenDigitConstraint, ContextFreeGrammarConstraint"
   ]
  },
  {
   "cell_type": "markdown",
   "metadata": {},
   "source": [
    "# Demonstrate a dummy constraint"
   ]
  },
  {
   "cell_type": "code",
   "execution_count": 3,
   "metadata": {},
   "outputs": [
    {
     "name": "stdout",
     "output_type": "stream",
     "text": [
      "My computer says Hello! or doododododododod\n"
     ]
    }
   ],
   "source": [
    "llm = TransformersLLM(\"gpt2\")\n",
    "\n",
    "pn = PromptNode().set_model(llm)              \\\n",
    "    .append(\"My computer says Hello\")                        \\\n",
    "    .constrain(DummyCharacterConstraint(positiveConstraint=['o','r','l','d','w',' ', '!'])) \\\n",
    "    .gen(max_tokens=10)\n",
    "\n",
    "text = pn.get_all_text()\n",
    "print(text)"
   ]
  },
  {
   "cell_type": "markdown",
   "metadata": {},
   "source": [
    "## Constraints are scoped to the current begin/end block"
   ]
  },
  {
   "cell_type": "code",
   "execution_count": 4,
   "metadata": {},
   "outputs": [
    {
     "name": "stdout",
     "output_type": "stream",
     "text": [
      "Hello world!I sing the aaaaasssaaasaaasaaasaa song.Aaaasssaaasaaasaaas\n"
     ]
    }
   ],
   "source": [
    "llm = TransformersLLM(\"gpt2\")\n",
    "\n",
    "pn = PromptNode().set_model(llm)              \\\n",
    "    .append(\"Hello world!\")                   \\\n",
    "    .begin()                                  \\\n",
    "    .append(\"I sing the \")                    \\\n",
    "    .constrain(DummyCharacterConstraint(positiveConstraint=['A', 'B', 'C', 'a', 'b', 'c', 's'])) \\\n",
    "    .gen(max_tokens=10)                       \\\n",
    "    .end()                                    \\\n",
    "    .append(\" song.\")                         \\\n",
    "    .gen(max_tokens=10)\n",
    "\n",
    "text = pn.get_all_text()\n",
    "print(text)"
   ]
  },
  {
   "cell_type": "markdown",
   "metadata": {},
   "source": [
    "# Example of a context-free-grammar constraint"
   ]
  },
  {
   "cell_type": "code",
   "execution_count": 5,
   "metadata": {},
   "outputs": [],
   "source": [
    "testCFG = ContextFreeGrammarConstraint()\n",
    "testCFG.add_grammar_rule(testCFG.Rule(\"S\", [\"@i\", \"@f\", \"@ \", \"E\", \"@ \", \"@t\", \"@h\", \"@e\", \"@n\", \"@ \", \"C\"]))  # <S> -> if <E> then <C>\n",
    "testCFG.add_grammar_rule(testCFG.Rule(\"E\", [\"@1\"]))  # <E> -> 1|2|3|4|5|6|7|8|9|\n",
    "testCFG.add_grammar_rule(testCFG.Rule(\"E\", [\"@2\"]))\n",
    "testCFG.add_grammar_rule(testCFG.Rule(\"E\", [\"@3\"]))\n",
    "testCFG.add_grammar_rule(testCFG.Rule(\"E\", [\"@4\"]))\n",
    "testCFG.add_grammar_rule(testCFG.Rule(\"E\", [\"@5\"]))\n",
    "testCFG.add_grammar_rule(testCFG.Rule(\"E\", [\"@6\"]))\n",
    "testCFG.add_grammar_rule(testCFG.Rule(\"E\", [\"@7\"]))\n",
    "testCFG.add_grammar_rule(testCFG.Rule(\"E\", [\"@8\"]))\n",
    "testCFG.add_grammar_rule(testCFG.Rule(\"E\", [\"@9\"]))\n",
    "testCFG.add_grammar_rule(testCFG.Rule(\"E\", [\"@(\", \"E\", \"@)\"])) # <E> -> (<E>)\n",
    "testCFG.add_grammar_rule(testCFG.Rule(\"E\", [\"E\", \"@+\", \"E\"]))  # <E> -> <E> + <E>\n",
    "testCFG.add_grammar_rule(testCFG.Rule(\"E\", [\"E\", \"@-\", \"E\"]))  # <E> -> <E> - <E>\n",
    "testCFG.add_grammar_rule(testCFG.Rule(\"E\", [\"E\", \"@*\", \"E\"]))  # <E> -> <E> * <E>\n",
    "testCFG.add_grammar_rule(testCFG.Rule(\"E\", [\"E\", \"@/\", \"E\"]))  # <E> -> <E> / <E>\n",
    "testCFG.add_grammar_rule(testCFG.Rule(\"C\", [\"@X\", \"@=\", \"E\"])) # <C> -> X = <E>\n",
    "testCFG.finalize_grammar()"
   ]
  },
  {
   "cell_type": "code",
   "execution_count": 7,
   "metadata": {},
   "outputs": [
    {
     "name": "stdout",
     "output_type": "stream",
     "text": [
      "If 2+4 then return 8: if 2 then X=2\n"
     ]
    }
   ],
   "source": [
    "llm = TransformersLLM(\"gpt2\")\n",
    "\n",
    "pn = PromptNode().set_model(llm)                  \\\n",
    "    .append(\"If 2+4 then return 8: \")             \\\n",
    "    .constrain(constraint=testCFG) \\\n",
    "    .gen(max_tokens=10)\n",
    "\n",
    "text = pn.get_all_text()\n",
    "print(text)"
   ]
  }
 ],
 "metadata": {
  "kernelspec": {
   "display_name": "Python 3",
   "language": "python",
   "name": "python3"
  },
  "language_info": {
   "codemirror_mode": {
    "name": "ipython",
    "version": 3
   },
   "file_extension": ".py",
   "mimetype": "text/x-python",
   "name": "python",
   "nbconvert_exporter": "python",
   "pygments_lexer": "ipython3",
   "version": "3.9.13"
  }
 },
 "nbformat": 4,
 "nbformat_minor": 2
}
