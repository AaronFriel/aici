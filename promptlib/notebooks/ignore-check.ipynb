{
 "cells": [
  {
   "cell_type": "code",
   "execution_count": 1,
   "metadata": {},
   "outputs": [],
   "source": [
    "import sys\n",
    "#sys.path.insert(0, 'c:\\\\users\\\\emrek\\\\source\\\\guidance\\\\prompt-plan\\\\promptlib\\\\')\n",
    "sys.path.insert(0, '/workspaces/aici/promptlib')\n"
   ]
  },
  {
   "cell_type": "code",
   "execution_count": 2,
   "metadata": {},
   "outputs": [
    {
     "name": "stderr",
     "output_type": "stream",
     "text": [
      "/usr/local/lib/python3.10/dist-packages/tqdm/auto.py:21: TqdmWarning: IProgress not found. Please update jupyter and ipywidgets. See https://ipywidgets.readthedocs.io/en/stable/user_install.html\n",
      "  from .autonotebook import tqdm as notebook_tqdm\n"
     ]
    }
   ],
   "source": [
    "from promptlib import PromptNode\n",
    "from promptlib import set_model, append, gen, choose, begin, end\n",
    "from promptlib.models import LLM, TransformersLLM\n",
    "from promptlib.endpoints import AICI"
   ]
  },
  {
   "cell_type": "code",
   "execution_count": 3,
   "metadata": {},
   "outputs": [
    {
     "name": "stdout",
     "output_type": "stream",
     "text": [
      "upload module... 3270kB -> 10168kB id:292267c9\n",
      "{'steps': [{'Fixed': {'text': {'String': {'str': '[INST] Please repeat the following list in order:'}}, 'tag': '_2', 'label': '_2'}}, {'Fixed': {'text': {'String': {'str': '\\nApple'}}, 'tag': '_3', 'label': '_3'}}, {'Fixed': {'text': {'String': {'str': '\\nCherries'}}, 'tag': '_4', 'label': '_4'}}, {'Fixed': {'text': {'String': {'str': '\\nGrapes'}}, 'tag': '_5', 'label': '_5'}}, {'Fixed': {'text': {'String': {'str': '\\nStrawberries'}}, 'tag': '_6', 'label': '_6'}}, {'Fixed': {'text': {'String': {'str': '\\nBananas'}}, 'tag': '_7', 'label': '_7'}}, {'Fixed': {'text': {'String': {'str': '\\n\\nOk now please repeat the list and say DONE when DONE:[/INST]\\n'}}, 'tag': '_8', 'label': '_8'}}, {'Fork': {'branches': [[{'Fixed': {'following': '_4', 'text': {'Concat': {'parts': [{'String': {'str': '\\nStrawberries'}}, {'String': {'str': '\\n\\nOk now please repeat the list and say DONE when DONE:[/INST]\\n'}}]}}}}, {'Gen': {'max_tokens': 30, 'tag': '_2', 'label': '_2', 'stop_at': 'DONE', 'stmts': [{'Set': {'var': 'gen_var_2', 'expr': {'Current': {}}}}]}}], [{'Wait': {'vars': ['gen_var_2']}}, {'Fixed': {'text': {'Var': {'var': 'gen_var_2'}}}}]]}}]}\n",
      "['[INST] Please repeat the following list in order:\\nApple\\nCherries\\nGrapes\\nStrawberries\\nBananas\\n\\nStrawberries\\n\\nOk now please repeat the list and say DONE when DONE:[/INST]\\n\\nApple\\nStrawberries\\nDONE', '[INST] Please repeat the following list in order:\\nApple\\nCherries\\nGrapes\\nStrawberries\\nBananas\\n\\nOk now please repeat the list and say DONE when DONE:[/INST]\\n░\\nApple\\nStrawberries\\nDONE']\n"
     ]
    }
   ],
   "source": [
    "ep = AICI(base_url=\"http://127.0.0.1:8080/v1/\", wasm_runner_path=\"/workspaces/aici/declctrl/target/opt.wasm\")\n",
    "\n",
    "endpoint = PromptNode().set_endpoint(ep)\n",
    "\n",
    "pn = endpoint.append(\"[INST] Please repeat the following list in order:\") \\\n",
    "    .append(\"\\nApple\") \\\n",
    "    .append(\"\\nCherries\", attrs=[\"selected\"]) \\\n",
    "    .append(\"\\nGrapes\", attrs=[\"selected\"]) \\\n",
    "    .append(\"\\nStrawberries\") \\\n",
    "    .append(\"\\nBananas\", attrs=[\"selected\"]) \\\n",
    "    .append(\"\\n\\nOk now please repeat the list and say DONE when DONE:[/INST]\\n\") \\\n",
    "    .gen(max_tokens=30, stop_at=\"DONE\", ignore=[\"selected\"])\n",
    "\n",
    "aici_steps = endpoint.build_tree_plan()\n",
    "print(aici_steps)\n",
    "\n",
    "results = endpoint.runAll()"
   ]
  },
  {
   "cell_type": "code",
   "execution_count": 6,
   "metadata": {},
   "outputs": [
    {
     "name": "stdout",
     "output_type": "stream",
     "text": [
      "[INST] Please repeat the following list in order:\n",
      "Apple\n",
      "Cherries\n",
      "Grapes\n",
      "Strawberries\n",
      "Bananas\n",
      "\n",
      "Ok now please repeat the list and say DONE when DONE:[/INST]\n",
      "░\n",
      "Apple\n",
      "Strawberries\n",
      "DONE\n"
     ]
    }
   ],
   "source": [
    "print(results[0][1])"
   ]
  }
 ],
 "metadata": {
  "kernelspec": {
   "display_name": "Python 3",
   "language": "python",
   "name": "python3"
  },
  "language_info": {
   "codemirror_mode": {
    "name": "ipython",
    "version": 3
   },
   "file_extension": ".py",
   "mimetype": "text/x-python",
   "name": "python",
   "nbconvert_exporter": "python",
   "pygments_lexer": "ipython3",
   "version": "3.10.12"
  }
 },
 "nbformat": 4,
 "nbformat_minor": 2
}
