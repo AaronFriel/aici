{
 "cells": [
  {
   "cell_type": "code",
   "execution_count": 1,
   "metadata": {},
   "outputs": [],
   "source": [
    "import sys\n",
    "sys.path.insert(0, 'c:\\\\users\\\\emrek\\\\source\\\\guidance\\\\prompt-plan\\\\promptlib\\\\')\n"
   ]
  },
  {
   "cell_type": "code",
   "execution_count": 3,
   "metadata": {},
   "outputs": [],
   "source": [
    "from promptlib import PromptNode\n",
    "from promptlib import set_model, append, gen, choose, begin, end\n",
    "from promptlib.models import LLM, TransformersLLM"
   ]
  },
  {
   "cell_type": "markdown",
   "metadata": {},
   "source": [
    "# Completion example with a local model"
   ]
  },
  {
   "cell_type": "code",
   "execution_count": 4,
   "metadata": {},
   "outputs": [
    {
     "name": "stderr",
     "output_type": "stream",
     "text": [
      "The attention mask and the pad token id were not set. As a consequence, you may observe unexpected behavior. Please pass your input's `attention_mask` to obtain reliable results.\n",
      "Setting `pad_token_id` to `eos_token_id`:50256 for open-end generation.\n",
      "The attention mask and the pad token id were not set. As a consequence, you may observe unexpected behavior. Please pass your input's `attention_mask` to obtain reliable results.\n",
      "Setting `pad_token_id` to `eos_token_id`:50256 for open-end generation.\n"
     ]
    },
    {
     "data": {
      "text/plain": [
       "'Here is a generated prompt:\\n\\n<input type=\"text\" name=\"\\n\\nHere is another generated prompt. \\xa0This one is a bit more complex. '"
      ]
     },
     "execution_count": 4,
     "metadata": {},
     "output_type": "execute_result"
    }
   ],
   "source": [
    "llm = TransformersLLM(\"gpt2\")\n",
    "\n",
    "pn = PromptNode().set_model(llm)                                          \\\n",
    "    .append(\"Here is a generated prompt:\").gen(max_tokens=10)             \\\n",
    ".append(\"\\n\\nHere is another generated prompt. \").gen(max_tokens=10)\n",
    "\n",
    "pn.get_all_text()"
   ]
  },
  {
   "cell_type": "markdown",
   "metadata": {},
   "source": [
    "# Chat example\n",
    "\n",
    "And also showing how to use multiple models in a single program"
   ]
  },
  {
   "cell_type": "code",
   "execution_count": 5,
   "metadata": {},
   "outputs": [
    {
     "name": "stderr",
     "output_type": "stream",
     "text": [
      "The attention mask and the pad token id were not set. As a consequence, you may observe unexpected behavior. Please pass your input's `attention_mask` to obtain reliable results.\n",
      "Setting `pad_token_id` to `eos_token_id`:50256 for open-end generation.\n"
     ]
    },
    {
     "data": {
      "text/plain": [
       "\"You are a helpful assistant.knock knock.Who's there?\\n\\nKnock knock knock knock knock knock knock. That's it.Knock knock knock knock knock knock knock. \\nWho's there?\""
      ]
     },
     "execution_count": 5,
     "metadata": {},
     "output_type": "execute_result"
    }
   ],
   "source": [
    "from promptlib.models import OpenAIChatLLM\n",
    "\n",
    "gpt2 = TransformersLLM(\"gpt2\")\n",
    "\n",
    "# TODO\n",
    "organization = None # \"Microsoft\"\n",
    "api_key = None\n",
    "\n",
    "pn = PromptNode()                                                        \\\n",
    "    .set_model(OpenAIChatLLM(\"gpt-3.5-turbo\", organization, api_key))    \\\n",
    "    .begin_system().append(\"You are a helpful assistant.\").end()         \\\n",
    "    .begin_user().append(\"knock knock.\").end()                           \\\n",
    "    .begin_assistant().append(\"Who's there?\").end()                      \\\n",
    "        \n",
    "# the gen() statement on the next line will use the the gpt2 model\n",
    "pn = pn.begin_user().set_model(gpt2).gen(max_tokens=10).append(\". That's it.\").end()\n",
    "\n",
    "# the scope of the gpt2 model is limited to inside the begin/end block its in, so\n",
    "# this gen() will still use the OpenAIChatLLM\n",
    "pn = pn.begin_assistant().gen(max_tokens=100).end()\n",
    "\n",
    "response = pn.get_all_text()\n",
    "\n",
    "response"
   ]
  },
  {
   "cell_type": "code",
   "execution_count": null,
   "metadata": {},
   "outputs": [],
   "source": [
    "pn = PromptNode()                                                        \\\n",
    "    .set_model(OpenAIChatLLM(\"gpt-3.5-turbo\", organization, api_key))    \\\n",
    "    .begin_system().append(\"You are a helpful assistant.\").end()         \\\n",
    "    .begin_user().append(\"knock knock.\").end()                           \\\n",
    "    .begin_assistant().append(\"Who's there?\").end()                      \\\n",
    "\n",
    "list = []\n",
    "for i in range(10):\n",
    "    list[i] = pn.begin_assistant().gen(max_tokens=100).end()\n",
    "\n"
   ]
  }
 ],
 "metadata": {
  "kernelspec": {
   "display_name": "Python 3",
   "language": "python",
   "name": "python3"
  },
  "language_info": {
   "codemirror_mode": {
    "name": "ipython",
    "version": 3
   },
   "file_extension": ".py",
   "mimetype": "text/x-python",
   "name": "python",
   "nbconvert_exporter": "python",
   "pygments_lexer": "ipython3",
   "version": "3.9.13"
  }
 },
 "nbformat": 4,
 "nbformat_minor": 2
}
